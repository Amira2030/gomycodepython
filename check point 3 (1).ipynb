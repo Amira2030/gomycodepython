{
 "cells": [
  {
   "cell_type": "code",
   "execution_count": 4,
   "id": "2f1eebf2",
   "metadata": {},
   "outputs": [
    {
     "name": "stdout",
     "output_type": "stream",
     "text": [
      "2\n",
      "3\n",
      "6\n",
      "36\n"
     ]
    }
   ],
   "source": [
    "my_list=[2,3,6]\n",
    "print(my_list[0])\n",
    "print(my_list[1])\n",
    "print(my_list[2])\n",
    "print((my_list[0])*my_list[1]*my_list[2])"
   ]
  },
  {
   "cell_type": "code",
   "execution_count": 5,
   "id": "974c3c2e",
   "metadata": {},
   "outputs": [
    {
     "name": "stdout",
     "output_type": "stream",
     "text": [
      "Sorted:\n",
      "[(2, 1), (1, 2), (2, 3), (4, 4), (2, 5)]\n"
     ]
    }
   ],
   "source": [
    "def last(n):\n",
    "    return n[-1]  \n",
    "   \n",
    "def sort(tuples):\n",
    "    return sorted(tuples, key=last)\n",
    "   \n",
    "a=[(2, 5), (1, 2), (4, 4), (2, 3), (2, 1)]\n",
    "print(\"Sorted:\")\n",
    "print(sort(a))"
   ]
  },
  {
   "cell_type": "code",
   "execution_count": 4,
   "id": "afecc941",
   "metadata": {},
   "outputs": [
    {
     "name": "stdout",
     "output_type": "stream",
     "text": [
      "{'a': 400}\n",
      "{'a': 400}\n",
      "{'a': 400}\n",
      "{'a': 400}\n",
      "{'a': 400, 'b': 400}\n",
      "{'a': 400, 'b': 400}\n",
      "{'a': 400, 'b': 400}\n",
      "{'a': 400, 'b': 400}\n",
      "{'a': 400, 'b': 400}\n"
     ]
    }
   ],
   "source": [
    "my_dict1={'a':100,'b':200,'c':300}\n",
    "my_dict2={'a':300,'b':200,'d':400}\n",
    "my_dict3 = {}\n",
    "for i,x in my_dict1.items():\n",
    "    for n,y in my_dict2.items():\n",
    "        if i==n:\n",
    "         my_dict3[i]=(x+y)\n",
    "        print(my_dict3)\n",
    "        "
   ]
  },
  {
   "cell_type": "code",
   "execution_count": 11,
   "id": "b0fd6bb4",
   "metadata": {},
   "outputs": [
    {
     "name": "stdout",
     "output_type": "stream",
     "text": [
      "8\n",
      "{1: 64}\n",
      "{1: 64, 2: 64}\n",
      "{1: 64, 2: 64, 3: 64}\n",
      "{1: 64, 2: 64, 3: 64, 4: 64}\n",
      "{1: 64, 2: 64, 3: 64, 4: 64, 5: 64}\n",
      "{1: 64, 2: 64, 3: 64, 4: 64, 5: 64, 6: 64}\n",
      "{1: 64, 2: 64, 3: 64, 4: 64, 5: 64, 6: 64, 7: 64}\n",
      "{1: 64, 2: 64, 3: 64, 4: 64, 5: 64, 6: 64, 7: 64, 8: 64}\n"
     ]
    }
   ],
   "source": [
    "n=int(input())\n",
    "my_dictionary={}\n",
    "for i in range(1,n+1):\n",
    "    my_dictionary[i]=n*n\n",
    "    print(my_dictionary)\n"
   ]
  },
  {
   "cell_type": "code",
   "execution_count": 1,
   "id": "6af9311f",
   "metadata": {},
   "outputs": [
    {
     "data": {
      "text/plain": [
       "[('item3', 24.5), ('item2', 15.1), ('item1', 12.2)]"
      ]
     },
     "execution_count": 1,
     "metadata": {},
     "output_type": "execute_result"
    }
   ],
   "source": [
    "def last(n):\n",
    "    return n[-1]\n",
    "my_tuple1=[('item1', 12.20), ('item2', 15.10), ('item3', 24.5)]\n",
    "sorted(my_tuple1,key=last,reverse=True)\n"
   ]
  },
  {
   "cell_type": "code",
   "execution_count": null,
   "id": "85cc1277",
   "metadata": {},
   "outputs": [],
   "source": []
  }
 ],
 "metadata": {
  "kernelspec": {
   "display_name": "Python 3 (ipykernel)",
   "language": "python",
   "name": "python3"
  },
  "language_info": {
   "codemirror_mode": {
    "name": "ipython",
    "version": 3
   },
   "file_extension": ".py",
   "mimetype": "text/x-python",
   "name": "python",
   "nbconvert_exporter": "python",
   "pygments_lexer": "ipython3",
   "version": "3.9.7"
  }
 },
 "nbformat": 4,
 "nbformat_minor": 5
}
